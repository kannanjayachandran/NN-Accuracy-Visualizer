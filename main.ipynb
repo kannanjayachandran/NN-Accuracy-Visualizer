{
 "cells": [
  {
   "cell_type": "markdown",
   "metadata": {},
   "source": [
    "# Neural Network"
   ]
  },
  {
   "cell_type": "markdown",
   "metadata": {},
   "source": [
    "### Importing libraries"
   ]
  },
  {
   "cell_type": "code",
   "execution_count": 1,
   "metadata": {},
   "outputs": [],
   "source": [
    "import numpy as np\n",
    "import pandas as pd"
   ]
  },
  {
   "cell_type": "markdown",
   "metadata": {},
   "source": [
    "### Importing data"
   ]
  },
  {
   "cell_type": "code",
   "execution_count": 3,
   "metadata": {},
   "outputs": [
    {
     "data": {
      "text/html": [
       "<div>\n",
       "<style scoped>\n",
       "    .dataframe tbody tr th:only-of-type {\n",
       "        vertical-align: middle;\n",
       "    }\n",
       "\n",
       "    .dataframe tbody tr th {\n",
       "        vertical-align: top;\n",
       "    }\n",
       "\n",
       "    .dataframe thead th {\n",
       "        text-align: right;\n",
       "    }\n",
       "</style>\n",
       "<table border=\"1\" class=\"dataframe\">\n",
       "  <thead>\n",
       "    <tr style=\"text-align: right;\">\n",
       "      <th></th>\n",
       "      <th>pixel0</th>\n",
       "      <th>pixel1</th>\n",
       "      <th>pixel2</th>\n",
       "      <th>pixel3</th>\n",
       "      <th>pixel4</th>\n",
       "      <th>pixel5</th>\n",
       "      <th>pixel6</th>\n",
       "      <th>pixel7</th>\n",
       "      <th>pixel8</th>\n",
       "      <th>pixel9</th>\n",
       "      <th>...</th>\n",
       "      <th>pixel774</th>\n",
       "      <th>pixel775</th>\n",
       "      <th>pixel776</th>\n",
       "      <th>pixel777</th>\n",
       "      <th>pixel778</th>\n",
       "      <th>pixel779</th>\n",
       "      <th>pixel780</th>\n",
       "      <th>pixel781</th>\n",
       "      <th>pixel782</th>\n",
       "      <th>pixel783</th>\n",
       "    </tr>\n",
       "  </thead>\n",
       "  <tbody>\n",
       "    <tr>\n",
       "      <th>0</th>\n",
       "      <td>0</td>\n",
       "      <td>0</td>\n",
       "      <td>0</td>\n",
       "      <td>0</td>\n",
       "      <td>0</td>\n",
       "      <td>0</td>\n",
       "      <td>0</td>\n",
       "      <td>0</td>\n",
       "      <td>0</td>\n",
       "      <td>0</td>\n",
       "      <td>...</td>\n",
       "      <td>0</td>\n",
       "      <td>0</td>\n",
       "      <td>0</td>\n",
       "      <td>0</td>\n",
       "      <td>0</td>\n",
       "      <td>0</td>\n",
       "      <td>0</td>\n",
       "      <td>0</td>\n",
       "      <td>0</td>\n",
       "      <td>0</td>\n",
       "    </tr>\n",
       "    <tr>\n",
       "      <th>1</th>\n",
       "      <td>0</td>\n",
       "      <td>0</td>\n",
       "      <td>0</td>\n",
       "      <td>0</td>\n",
       "      <td>0</td>\n",
       "      <td>0</td>\n",
       "      <td>0</td>\n",
       "      <td>0</td>\n",
       "      <td>0</td>\n",
       "      <td>0</td>\n",
       "      <td>...</td>\n",
       "      <td>0</td>\n",
       "      <td>0</td>\n",
       "      <td>0</td>\n",
       "      <td>0</td>\n",
       "      <td>0</td>\n",
       "      <td>0</td>\n",
       "      <td>0</td>\n",
       "      <td>0</td>\n",
       "      <td>0</td>\n",
       "      <td>0</td>\n",
       "    </tr>\n",
       "    <tr>\n",
       "      <th>2</th>\n",
       "      <td>0</td>\n",
       "      <td>0</td>\n",
       "      <td>0</td>\n",
       "      <td>0</td>\n",
       "      <td>0</td>\n",
       "      <td>0</td>\n",
       "      <td>0</td>\n",
       "      <td>0</td>\n",
       "      <td>0</td>\n",
       "      <td>0</td>\n",
       "      <td>...</td>\n",
       "      <td>0</td>\n",
       "      <td>0</td>\n",
       "      <td>0</td>\n",
       "      <td>0</td>\n",
       "      <td>0</td>\n",
       "      <td>0</td>\n",
       "      <td>0</td>\n",
       "      <td>0</td>\n",
       "      <td>0</td>\n",
       "      <td>0</td>\n",
       "    </tr>\n",
       "    <tr>\n",
       "      <th>3</th>\n",
       "      <td>0</td>\n",
       "      <td>0</td>\n",
       "      <td>0</td>\n",
       "      <td>0</td>\n",
       "      <td>0</td>\n",
       "      <td>0</td>\n",
       "      <td>0</td>\n",
       "      <td>0</td>\n",
       "      <td>0</td>\n",
       "      <td>0</td>\n",
       "      <td>...</td>\n",
       "      <td>0</td>\n",
       "      <td>0</td>\n",
       "      <td>0</td>\n",
       "      <td>0</td>\n",
       "      <td>0</td>\n",
       "      <td>0</td>\n",
       "      <td>0</td>\n",
       "      <td>0</td>\n",
       "      <td>0</td>\n",
       "      <td>0</td>\n",
       "    </tr>\n",
       "    <tr>\n",
       "      <th>4</th>\n",
       "      <td>0</td>\n",
       "      <td>0</td>\n",
       "      <td>0</td>\n",
       "      <td>0</td>\n",
       "      <td>0</td>\n",
       "      <td>0</td>\n",
       "      <td>0</td>\n",
       "      <td>0</td>\n",
       "      <td>0</td>\n",
       "      <td>0</td>\n",
       "      <td>...</td>\n",
       "      <td>0</td>\n",
       "      <td>0</td>\n",
       "      <td>0</td>\n",
       "      <td>0</td>\n",
       "      <td>0</td>\n",
       "      <td>0</td>\n",
       "      <td>0</td>\n",
       "      <td>0</td>\n",
       "      <td>0</td>\n",
       "      <td>0</td>\n",
       "    </tr>\n",
       "  </tbody>\n",
       "</table>\n",
       "<p>5 rows × 784 columns</p>\n",
       "</div>"
      ],
      "text/plain": [
       "   pixel0  pixel1  pixel2  pixel3  pixel4  pixel5  pixel6  pixel7  pixel8  \\\n",
       "0       0       0       0       0       0       0       0       0       0   \n",
       "1       0       0       0       0       0       0       0       0       0   \n",
       "2       0       0       0       0       0       0       0       0       0   \n",
       "3       0       0       0       0       0       0       0       0       0   \n",
       "4       0       0       0       0       0       0       0       0       0   \n",
       "\n",
       "   pixel9  ...  pixel774  pixel775  pixel776  pixel777  pixel778  pixel779  \\\n",
       "0       0  ...         0         0         0         0         0         0   \n",
       "1       0  ...         0         0         0         0         0         0   \n",
       "2       0  ...         0         0         0         0         0         0   \n",
       "3       0  ...         0         0         0         0         0         0   \n",
       "4       0  ...         0         0         0         0         0         0   \n",
       "\n",
       "   pixel780  pixel781  pixel782  pixel783  \n",
       "0         0         0         0         0  \n",
       "1         0         0         0         0  \n",
       "2         0         0         0         0  \n",
       "3         0         0         0         0  \n",
       "4         0         0         0         0  \n",
       "\n",
       "[5 rows x 784 columns]"
      ]
     },
     "execution_count": 3,
     "metadata": {},
     "output_type": "execute_result"
    }
   ],
   "source": [
    "data = pd.read_csv('./Data/train.csv')\n",
    "data.head()"
   ]
  },
  {
   "cell_type": "markdown",
   "metadata": {},
   "source": [
    "### Converting the input into a numpy array"
   ]
  },
  {
   "cell_type": "code",
   "execution_count": 5,
   "metadata": {},
   "outputs": [
    {
     "name": "stdout",
     "output_type": "stream",
     "text": [
      "shape of data :\n",
      " rows: 42000 and columns: 785\n"
     ]
    }
   ],
   "source": [
    "data = np.array(data)\n",
    "m, n = data.shape\n",
    "print(f'shape of data :\\n rows: {m} and columns: {n}')\n",
    "\n",
    "# randomly shuffling data before splitting into testing and training sets\n",
    "np.random.shuffle(data)"
   ]
  },
  {
   "cell_type": "markdown",
   "metadata": {},
   "source": [
    "> There are 42000 rows and 785 columns; that means we have 42000 examples row wise (each row is an image of total 784 pixel (28*28))"
   ]
  },
  {
   "cell_type": "markdown",
   "metadata": {},
   "source": [
    "### Preparing testing data\n",
    "\n",
    "- Test data contains first 1000 rows\n",
    "- `data_test` variable before transposing would contain 1000 example row wise; after transposing, it would contain 1000 examples column wise. \n",
    "- `y_test` variable contains the labels (The thing we want to predict (1000 numbers between 0 and 9)\n",
    "- `x_test` variable contains the features (The things we use to predict labels (1000 - 784 long numpy arrays with pixel value[0-255]))\n",
    "- We need to normalize the `x_test` variable's pixel values which are usually in the range of 0 to 255, to a range of 0 to 1 to prevent certain features from dominating the model due to their scale."
   ]
  },
  {
   "cell_type": "code",
   "execution_count": 6,
   "metadata": {},
   "outputs": [
    {
     "name": "stdout",
     "output_type": "stream",
     "text": [
      "Shape of data_test (After transposing): (785, 1000)\n",
      "\n",
      "(1000,)\n"
     ]
    }
   ],
   "source": [
    "data_test = data[0:1000].T \n",
    "print(f'Shape of data_test (After transposing): {data_test.shape}\\n')\n",
    "\n",
    "y_test = data_test[0]\n",
    "x_test = data_test[1:n]\n",
    "x_test = x_test / 255.\n",
    "\n",
    "print(y_test.shape)"
   ]
  },
  {
   "cell_type": "markdown",
   "metadata": {},
   "source": [
    "### Preparing training data"
   ]
  },
  {
   "cell_type": "code",
   "execution_count": 7,
   "metadata": {},
   "outputs": [],
   "source": [
    "data_train = data[1000:m].T\n",
    "y_train = data_train[0]\n",
    "x_train = data_train[1:n]\n",
    "x_train = x_train / 255."
   ]
  },
  {
   "cell_type": "code",
   "execution_count": 8,
   "metadata": {},
   "outputs": [
    {
     "name": "stdout",
     "output_type": "stream",
     "text": [
      "41000\n"
     ]
    }
   ],
   "source": [
    "_, m_train = x_train.shape\n",
    "\n",
    "print(m_train)"
   ]
  },
  {
   "cell_type": "code",
   "execution_count": 9,
   "metadata": {},
   "outputs": [
    {
     "data": {
      "text/plain": [
       "array([7, 1, 0, ..., 0, 0, 6], dtype=int64)"
      ]
     },
     "execution_count": 9,
     "metadata": {},
     "output_type": "execute_result"
    }
   ],
   "source": [
    "y_train"
   ]
  },
  {
   "cell_type": "markdown",
   "metadata": {},
   "source": [
    "### Function to initialize weights and biases"
   ]
  },
  {
   "cell_type": "code",
   "execution_count": 10,
   "metadata": {},
   "outputs": [],
   "source": [
    "def init_parameters():\n",
    "    W1 = np.random.rand(10, 784) - 0.5\n",
    "    B1 = np.random.rand(10, 1) - 0.5\n",
    "    W2 = np.random.rand(10, 10) - 0.5\n",
    "    B2 = np.random.rand(10, 1) - 0.5\n",
    "    return W1, W2, B1, B2"
   ]
  },
  {
   "cell_type": "markdown",
   "metadata": {},
   "source": [
    "### ReLu Activation function\n",
    "\n",
    "- ReLu is a non-linear activation function which is used to introduce non-linearity in the model. It would return 0 if the input is negative and the input itself if the input is positive."
   ]
  },
  {
   "cell_type": "code",
   "execution_count": 11,
   "metadata": {},
   "outputs": [],
   "source": [
    "def ReLU(arr):\n",
    "    return np.maximum(arr, 0)"
   ]
  },
  {
   "cell_type": "markdown",
   "metadata": {},
   "source": [
    "### ReLU derivative\n",
    "\n",
    "- This is the derivative of the ReLu function. It would return 0 if the input is negative and 1 if the input is positive."
   ]
  },
  {
   "cell_type": "code",
   "execution_count": 12,
   "metadata": {},
   "outputs": [],
   "source": [
    "def derv_ReLU(arr):\n",
    "    return arr > 0"
   ]
  },
  {
   "cell_type": "markdown",
   "metadata": {},
   "source": [
    "### SoftMax Activation function\n",
    "\n",
    "- SoftMax is a non-linear activation function which is used to squash the output of the model to a range of 0 to 1 (a probability distribution). It is used in the output layer of the model. It is also used to calculate the loss function."
   ]
  },
  {
   "cell_type": "code",
   "execution_count": 13,
   "metadata": {},
   "outputs": [],
   "source": [
    "def softMax(arr):\n",
    "    sm = np.exp(arr) / sum(np.exp(arr))\n",
    "    return sm"
   ]
  },
  {
   "cell_type": "markdown",
   "metadata": {},
   "source": [
    "### One hot encoding\n",
    "\n",
    "- One hot encoding is a process of converting categorical data into a form that could be provided to ML algorithms to do a better job in prediction."
   ]
  },
  {
   "cell_type": "code",
   "execution_count": 14,
   "metadata": {},
   "outputs": [],
   "source": [
    "def one_hot(y):\n",
    "    one_hot_y = np.zeros((y.size, y.max() + 1))\n",
    "    one_hot_y[np.arange(y.size), y] = 1\n",
    "    one_hot_y = one_hot_y.T\n",
    "    return one_hot_y"
   ]
  },
  {
   "cell_type": "markdown",
   "metadata": {},
   "source": [
    "### Forward Propagation\n",
    "\n",
    "- Forward propagation is the process of calculating the output of the model using the input and the weights and biases of the model. It is also called the inference step."
   ]
  },
  {
   "cell_type": "code",
   "execution_count": 15,
   "metadata": {},
   "outputs": [],
   "source": [
    "def forward_propagation(W1, W2, B1, B2, x):\n",
    "    Z1 = W1.dot(x) + B1\n",
    "    A1 = ReLU(Z1)\n",
    "    Z2 = W2.dot(A1) + B2\n",
    "    A2 = softMax(Z2)\n",
    "    return Z1, Z2, A1, A2"
   ]
  },
  {
   "cell_type": "markdown",
   "metadata": {},
   "source": [
    "### Backward Propagation\n",
    "\n",
    "- Backward propagation is the process of calculating the gradients of the loss function with respect to the weights and biases. The gradients are used to update the weights and biases in the direction of the minimum of the loss function.\n",
    "\n",
    "$$\\frac{\\partial L}{\\partial w} = \\frac{\\partial L}{\\partial z} \\frac{\\partial z}{\\partial w}$$\n",
    "\n",
    "$$\\frac{\\partial L}{\\partial b} = \\frac{\\partial L}{\\partial z} \\frac{\\partial z}{\\partial b}$$\n",
    "\n",
    "---\n",
    "\n",
    "$$dZ^{[2]} = A^{[2]} - Y$$\n",
    "$$dW^{[2]} = \\frac{1}{m} dZ^{[2]} A^{[1]T}$$\n",
    "$$dB^{[2]} = \\frac{1}{m} \\Sigma {dZ^{[2]}}$$\n",
    "$$dZ^{[1]} = W^{[2]T} dZ^{[2]} .* g^{[1]\\prime} (z^{[1]})$$\n",
    "$$dW^{[1]} = \\frac{1}{m} dZ^{[1]} A^{[0]T}$$\n",
    "$$dB^{[1]} = \\frac{1}{m} \\Sigma {dZ^{[1]}}$$\n",
    "\n"
   ]
  },
  {
   "cell_type": "code",
   "execution_count": 16,
   "metadata": {},
   "outputs": [],
   "source": [
    "def back_propagation(Z1, Z2, A1, A2, W1, W2, x, y):\n",
    "    one_hot_y = one_hot(y)\n",
    "\n",
    "    dZ2 = A2 - one_hot_y\n",
    "    dW2 = (1 / m) * dZ2.dot(A1.T)\n",
    "    db2 = (1/m) * np.sum(dZ2)\n",
    "\n",
    "    dZ1 = W2.T.dot(dZ2) * derv_ReLU(Z1)\n",
    "    dW1 = (1/m) * dZ1.dot(x.T)\n",
    "    db1 = (1/m) * np.sum(dZ1)\n",
    "    \n",
    "    return dW1, dW2, db1, db2"
   ]
  },
  {
   "cell_type": "markdown",
   "metadata": {},
   "source": [
    "### Function to update weights and biases\n",
    "\n",
    "- The weights and biases are updated in the direction of the minimum of the loss function using the gradients calculated in the backward propagation step."
   ]
  },
  {
   "cell_type": "code",
   "execution_count": 17,
   "metadata": {},
   "outputs": [],
   "source": [
    "def update_parameters(W1, W2, B1, B2, dW1, dW2, db1, db2, alpha):\n",
    "    W1 = W1 - alpha * dW1\n",
    "    B1 = B1 - alpha * db1\n",
    "    W2 = W2 - alpha *dW2\n",
    "    B2 =  B2 - alpha * db2\n",
    "\n",
    "    return W1, W2, B1, B2"
   ]
  },
  {
   "cell_type": "markdown",
   "metadata": {},
   "source": [
    "### Function to predict\n",
    "\n",
    "- This function is used to predict the labels of the test data. The `argmax` function of numpy is used to get the index of the maximum value in the output of the model. The index of the maximum value is the predicted label."
   ]
  },
  {
   "cell_type": "code",
   "execution_count": 18,
   "metadata": {},
   "outputs": [],
   "source": [
    "def get_predictions(A2):\n",
    "    return np.argmax(A2, 0)"
   ]
  },
  {
   "cell_type": "markdown",
   "metadata": {},
   "source": [
    "### Function to calculate accuracy\n",
    "\n",
    "- This function is used to calculate the accuracy of the model."
   ]
  },
  {
   "cell_type": "code",
   "execution_count": 19,
   "metadata": {},
   "outputs": [],
   "source": [
    "def get_accuracy(predictions, y):\n",
    "    return np.sum(predictions == y) / y.size"
   ]
  },
  {
   "cell_type": "markdown",
   "metadata": {},
   "source": [
    "### Gradient Descent Algorithm\n",
    "\n",
    "- The gradient descent algorithm is used to update the weights and biases of the model in the direction of the minimum of the loss function. The learning rate is used to control the step size of the gradient descent algorithm.\n",
    "\n",
    "$$w = w - \\alpha \\frac{\\partial L}{\\partial w}$$\n",
    "\n",
    "$$b = b - \\alpha \\frac{\\partial L}{\\partial b}$$\n"
   ]
  },
  {
   "cell_type": "code",
   "execution_count": 20,
   "metadata": {},
   "outputs": [],
   "source": [
    "def gradient_descent(x, y, alpha, iteration):\n",
    "\n",
    "    # Initializing the weight and biases\n",
    "    w1, w2, b1, b2 = init_parameters()\n",
    "\n",
    "    for i in range(iteration):\n",
    "        z1, z2, a1, a2 = forward_propagation(w1, w2, b1, b2, x)\n",
    "\n",
    "        d_w1, d_w2, db1, db2 = back_propagation(z1, z2, a1, a2, w1, w2, x, y)\n",
    "\n",
    "        w1, w2, b1, b2 = update_parameters(w1, w2, b1, b2, d_w1, d_w2, db1, db2, alpha)\n",
    "\n",
    "        # logging\n",
    "        if i % 10 == 0:\n",
    "            print(f'Iteration: {i}\\n')\n",
    "            predictions = get_predictions(a2)\n",
    "            print(get_accuracy(predictions, y), '\\n') \n",
    "    return w1, w2, b1, b2"
   ]
  },
  {
   "cell_type": "code",
   "execution_count": 21,
   "metadata": {},
   "outputs": [
    {
     "name": "stdout",
     "output_type": "stream",
     "text": [
      "Iteration: 0\n",
      "\n",
      "0.07234146341463414 \n",
      "\n",
      "Iteration: 10\n",
      "\n",
      "0.1245609756097561 \n",
      "\n",
      "Iteration: 20\n",
      "\n",
      "0.2050731707317073 \n",
      "\n",
      "Iteration: 30\n",
      "\n",
      "0.2786585365853659 \n",
      "\n",
      "Iteration: 40\n",
      "\n",
      "0.3474634146341463 \n",
      "\n",
      "Iteration: 50\n",
      "\n",
      "0.4009268292682927 \n",
      "\n",
      "Iteration: 60\n",
      "\n",
      "0.4501707317073171 \n",
      "\n",
      "Iteration: 70\n",
      "\n",
      "0.4918292682926829 \n",
      "\n",
      "Iteration: 80\n",
      "\n",
      "0.5255365853658537 \n",
      "\n",
      "Iteration: 90\n",
      "\n",
      "0.5566585365853659 \n",
      "\n",
      "Iteration: 100\n",
      "\n",
      "0.5829756097560975 \n",
      "\n",
      "Iteration: 110\n",
      "\n",
      "0.6065853658536585 \n",
      "\n",
      "Iteration: 120\n",
      "\n",
      "0.628609756097561 \n",
      "\n",
      "Iteration: 130\n",
      "\n",
      "0.6479024390243903 \n",
      "\n",
      "Iteration: 140\n",
      "\n",
      "0.6652439024390244 \n",
      "\n",
      "Iteration: 150\n",
      "\n",
      "0.6811951219512196 \n",
      "\n",
      "Iteration: 160\n",
      "\n",
      "0.6958536585365853 \n",
      "\n",
      "Iteration: 170\n",
      "\n",
      "0.7089512195121951 \n",
      "\n",
      "Iteration: 180\n",
      "\n",
      "0.7198536585365853 \n",
      "\n",
      "Iteration: 190\n",
      "\n",
      "0.7300487804878049 \n",
      "\n",
      "Iteration: 200\n",
      "\n",
      "0.7394634146341463 \n",
      "\n",
      "Iteration: 210\n",
      "\n",
      "0.7479268292682927 \n",
      "\n",
      "Iteration: 220\n",
      "\n",
      "0.7556829268292683 \n",
      "\n",
      "Iteration: 230\n",
      "\n",
      "0.7621951219512195 \n",
      "\n",
      "Iteration: 240\n",
      "\n",
      "0.7689268292682927 \n",
      "\n",
      "Iteration: 250\n",
      "\n",
      "0.7739512195121951 \n",
      "\n",
      "Iteration: 260\n",
      "\n",
      "0.779390243902439 \n",
      "\n",
      "Iteration: 270\n",
      "\n",
      "0.7839756097560976 \n",
      "\n",
      "Iteration: 280\n",
      "\n",
      "0.7884146341463415 \n",
      "\n",
      "Iteration: 290\n",
      "\n",
      "0.7925365853658537 \n",
      "\n",
      "Iteration: 300\n",
      "\n",
      "0.796219512195122 \n",
      "\n",
      "Iteration: 310\n",
      "\n",
      "0.7992439024390244 \n",
      "\n",
      "Iteration: 320\n",
      "\n",
      "0.8017804878048781 \n",
      "\n",
      "Iteration: 330\n",
      "\n",
      "0.8047073170731708 \n",
      "\n",
      "Iteration: 340\n",
      "\n",
      "0.8079024390243903 \n",
      "\n",
      "Iteration: 350\n",
      "\n",
      "0.8104878048780488 \n",
      "\n",
      "Iteration: 360\n",
      "\n",
      "0.8127073170731707 \n",
      "\n",
      "Iteration: 370\n",
      "\n",
      "0.8145121951219512 \n",
      "\n",
      "Iteration: 380\n",
      "\n",
      "0.8166097560975609 \n",
      "\n",
      "Iteration: 390\n",
      "\n",
      "0.8184390243902439 \n",
      "\n",
      "Iteration: 400\n",
      "\n",
      "0.8204390243902439 \n",
      "\n",
      "Iteration: 410\n",
      "\n",
      "0.8226097560975609 \n",
      "\n",
      "Iteration: 420\n",
      "\n",
      "0.8247560975609756 \n",
      "\n",
      "Iteration: 430\n",
      "\n",
      "0.8267317073170731 \n",
      "\n",
      "Iteration: 440\n",
      "\n",
      "0.8285121951219512 \n",
      "\n",
      "Iteration: 450\n",
      "\n",
      "0.8302439024390244 \n",
      "\n",
      "Iteration: 460\n",
      "\n",
      "0.8320487804878048 \n",
      "\n",
      "Iteration: 470\n",
      "\n",
      "0.8337073170731707 \n",
      "\n",
      "Iteration: 480\n",
      "\n",
      "0.8351219512195122 \n",
      "\n",
      "Iteration: 490\n",
      "\n",
      "0.836780487804878 \n",
      "\n"
     ]
    }
   ],
   "source": [
    "W1, W2, B1, B2 = gradient_descent(x_train, y_train, 0.10, 500)"
   ]
  },
  {
   "attachments": {},
   "cell_type": "markdown",
   "metadata": {},
   "source": [
    "### Testing the model on the test data\n",
    "\n",
    "- The model is tested on the test data and the accuracy is calculated."
   ]
  },
  {
   "cell_type": "code",
   "execution_count": 22,
   "metadata": {},
   "outputs": [],
   "source": [
    "def make_pred(x, w1, b1, w2, b2):\n",
    "    _, _, _, a2 = forward_propagation(w1, w2, b1, b2, x)\n",
    "    predictions = get_predictions(a2)\n",
    "    return predictions "
   ]
  },
  {
   "cell_type": "code",
   "execution_count": 23,
   "metadata": {},
   "outputs": [
    {
     "data": {
      "text/plain": [
       "0.845"
      ]
     },
     "execution_count": 23,
     "metadata": {},
     "output_type": "execute_result"
    }
   ],
   "source": [
    "test_p = make_pred(x_test, W1, B1, W2, B2)\n",
    "get_accuracy(test_p, y_test)"
   ]
  },
  {
   "cell_type": "markdown",
   "metadata": {
    "collapsed": false
   },
   "source": [
    "### Saving the model as a pickle file"
   ]
  },
  {
   "cell_type": "code",
   "execution_count": 25,
   "metadata": {
    "collapsed": false
   },
   "outputs": [],
   "source": [
    "import pickle\n",
    "\n",
    "with open ('NN.pickle', 'wb') as f:\n",
    "    pickle.dump([W1, W2, B1, B2], f)"
   ]
  },
  {
   "cell_type": "code",
   "execution_count": 28,
   "metadata": {
    "collapsed": false
   },
   "outputs": [],
   "source": [
    "import matplotlib.pyplot as plt\n",
    "\n",
    "def test_predictions(index, w1, b1, w2, b2):\n",
    "    current_image = x_train[:, index, None]\n",
    "    predictions = make_pred(x_train[:, index, None], w1, b1, w2, b2)\n",
    "    label = y_train[index]\n",
    "\n",
    "    print('prediction: ', predictions)\n",
    "    print(\"label: \", label)\n",
    "\n",
    "    current_image = current_image.reshape((28, 28)) * 255\n",
    "\n",
    "    plt.gray()\n",
    "    plt.imshow(current_image, interpolation='nearest')\n",
    "    plt.show()"
   ]
  },
  {
   "cell_type": "code",
   "execution_count": 29,
   "metadata": {
    "collapsed": false
   },
   "outputs": [
    {
     "name": "stdout",
     "output_type": "stream",
     "text": [
      "prediction:  [5]\n",
      "label:  5\n"
     ]
    },
    {
     "data": {
      "image/png": "[encoded data removed]",
      "text/plain": [
       "<Figure size 640x480 with 1 Axes>"
      ]
     },
     "metadata": {},
     "output_type": "display_data"
    }
   ],
   "source": [
    "test_predictions(504, W1, B1, W2, B2)"
   ]
  }
 ],
 "metadata": {
  "kernelspec": {
   "display_name": "NN-strlit",
   "language": "python",
   "name": "python3"
  },
  "language_info": {
   "codemirror_mode": {
    "name": "ipython",
    "version": 3
   },
   "file_extension": ".py",
   "mimetype": "text/x-python",
   "name": "python",
   "nbconvert_exporter": "python",
   "pygments_lexer": "ipython3",
   "version": "3.10.9 | packaged by conda-forge | (main, Jan 11 2023, 15:15:40) [MSC v.1916 64 bit (AMD64)]"
  },
  "vscode": {
   "interpreter": {
    "hash": "21c3c7cb9fc2468ce80fc2f5365b4498bfef0bae8a8af78ee1d6c2c285602b31"
   }
  }
 },
 "nbformat": 4,
 "nbformat_minor": 4
}
